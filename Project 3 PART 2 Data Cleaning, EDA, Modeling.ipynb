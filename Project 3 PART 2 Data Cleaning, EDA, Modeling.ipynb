{
 "cells": [
  {
   "cell_type": "markdown",
   "id": "b75c40d0",
   "metadata": {},
   "source": [
    "# Project 3: Part 2\n",
    "## Web APIs & NLP"
   ]
  },
  {
   "cell_type": "markdown",
   "id": "8d247774",
   "metadata": {},
   "source": [
    "###  Background\n",
    "There has been a surge in demand for data professionals in recent years. This led to an increased competition in the space for coding bootcamps. Competitors like Hack Reactor, Le Wagon, Vertical Institute, and Rocket Academy, have risen to meet the demands. If no action is taken, General Assembly may be faced with decline in market share, poor marketing ROI, and poorer lead generation. \n",
    "\n",
    "The General Assembly marketing team would need to better identify the online presence of a bootcamp seeker as opposed to that of the computer science major to aid in tergeted advertising. As both are fairly similar in nature, efforts to further segregate the two targets could yield better advertising ROI.\n",
    "\n",
    "Keywords are an important aspect of the digital advertising, allowing for targeted strategies at all levels of the marketing funnel. They also guide marketing teams on the sort of advertising content that is required.\n",
    "\n",
    "Thus, the aim is to segment and target the right audience for amrketing efforts streamline marketing efforts, rasie brand awareness with interested individuals, and increase advertising ROI. "
   ]
  },
  {
   "cell_type": "markdown",
   "id": "f529438e",
   "metadata": {},
   "source": [
    "### Problem Statement\n",
    "Build a model with at least 90% accuracy that helps to identify between those who are looking for bootcamp style learning as oppose to computer science majors or prospective students based on the words they use online. "
   ]
  },
  {
   "cell_type": "markdown",
   "id": "fc5288db",
   "metadata": {},
   "source": [
    "### Data Cleaning, EDA, Modeling\n",
    "This notebook will focus on the above listed. This is a continuation from Part 1. "
   ]
  },
  {
   "cell_type": "markdown",
   "id": "b7260a16",
   "metadata": {},
   "source": [
    "### Data Dictionary\n",
    "#### Dataset name: df \n",
    "##### This contains data that were scraped from Reddit to be used in the project.\n",
    "|Feature|Type|Description|\n",
    "|---|---|---|\n",
    "|subreddit|string| The subreddit the posts are extracted from|\n",
    "|title|string| Title of the posts|\n",
    "|selftext|string|Body of the posts|\n",
    "\n",
    "#### Dataset name: cbc_clean\n",
    "##### codingbootcamp cleaned and preprocessed data\n",
    "|Feature|Type|Description|\n",
    "|---|---|---|\n",
    "|subreddit|string| Subreddit: codingbootcamp|\n",
    "|title|string| Title of the posts|\n",
    "|selftext|string|Body of the posts|\n",
    "|text|string|title and selftext combined|\n",
    "|clean_text|string|Text that have been processed and vectorized|\n",
    "\n",
    "#### Dataset name: cm_clean\n",
    "##### csMajors cleaned and preprocessed data\n",
    "|Feature|Type|Description|\n",
    "|---|---|---|\n",
    "|subreddit|string| Subreddit: csMajors|\n",
    "|title|string| Title of the posts|\n",
    "|selftext|string|Body of the posts|\n",
    "|text|string|title and selftext combined|\n",
    "|clean_text|string|Text that have been processed and vectorized|\n",
    "\n",
    "#### Dataset name: df_clean\n",
    "##### Dataset used for modelling\n",
    "|Feature|Type|Description|\n",
    "|---|---|---|\n",
    "|subreddit|string| The different subreddits that have been cleaned|\n",
    "|title|string| Title of the posts|\n",
    "|selftext|string|Body of the posts|\n",
    "|text|string|title and selftext combined|\n",
    "|clean_text|string|Text that have been processed and vectorized|\n",
    "|baseline|string|Only contain words used for baseline model|"
   ]
  },
  {
   "cell_type": "markdown",
   "id": "e7970b6a",
   "metadata": {},
   "source": [
    "### Data Cleaning"
   ]
  },
  {
   "cell_type": "code",
   "execution_count": 1,
   "id": "d7fb97ef",
   "metadata": {},
   "outputs": [],
   "source": [
    "import pandas as pd\n",
    "import numpy as np\n",
    "import matplotlib.pyplot as plt\n",
    "import string\n",
    "import re\n",
    "import nltk\n",
    "import warnings\n",
    "warnings.filterwarnings('ignore')\n",
    "%matplotlib inline\n",
    "\n",
    "from sklearn.feature_extraction.text import CountVectorizer, TfidfVectorizer\n",
    "from sklearn.model_selection import train_test_split\n",
    "from sklearn.pipeline import Pipeline\n",
    "from sklearn.model_selection import GridSearchCV\n",
    "from sklearn.metrics import accuracy_score\n",
    "from sklearn.naive_bayes import BernoulliNB, MultinomialNB\n",
    "from sklearn.pipeline import Pipeline\n",
    "from sklearn.metrics import confusion_matrix, classification_report, plot_roc_curve, roc_auc_score"
   ]
  },
  {
   "cell_type": "markdown",
   "id": "bc586cd3",
   "metadata": {},
   "source": [
    "As the data is scraped off the web, it needs to be made understandable for the model. A series of cleaning processes will need to take place to enable this. These processes consists of removing punctuations, tokenize the data, remove stopwords and followed by lemmatization of the data. "
   ]
  },
  {
   "cell_type": "code",
   "execution_count": 2,
   "id": "982b0233",
   "metadata": {},
   "outputs": [],
   "source": [
    "# Load data\n",
    "df = pd.read_csv('data/df.csv')"
   ]
  },
  {
   "cell_type": "markdown",
   "id": "332c114a",
   "metadata": {},
   "source": [
    "Through initial scanning of the data it is found that there are posts where the body of the post has been [removed] or [deleted] by the moderators of the subreddit. This indicates that what was contained within it was not suitable to the subreddit. By replacing these words it will help with later on with the accuracy of the model as it would not be swayed by the contant reappareance of [removed] or [deleted]. "
   ]
  },
  {
   "cell_type": "code",
   "execution_count": 3,
   "id": "a2604a15",
   "metadata": {},
   "outputs": [],
   "source": [
    "# Remove the words [removed] and [deleted] from selftexts\n",
    "df['selftext'] = df['selftext'].replace('[removed]', '')\n",
    "df['selftext'] = df['selftext'].replace('[deleted]', '')"
   ]
  },
  {
   "cell_type": "markdown",
   "id": "5cbc38ce",
   "metadata": {},
   "source": [
    "'Title' and 'selftext' are where the model is going to be trained on. Thus, both columns will be combined for a more efficient process."
   ]
  },
  {
   "cell_type": "code",
   "execution_count": 4,
   "id": "0299011d",
   "metadata": {},
   "outputs": [],
   "source": [
    "# Combine 'selftext' and 'title' columns\n",
    "df['text'] = df['selftext'] + '' + df['title']"
   ]
  },
  {
   "cell_type": "code",
   "execution_count": 5,
   "id": "689bd9bf",
   "metadata": {},
   "outputs": [
    {
     "data": {
      "text/html": [
       "<div>\n",
       "<style scoped>\n",
       "    .dataframe tbody tr th:only-of-type {\n",
       "        vertical-align: middle;\n",
       "    }\n",
       "\n",
       "    .dataframe tbody tr th {\n",
       "        vertical-align: top;\n",
       "    }\n",
       "\n",
       "    .dataframe thead th {\n",
       "        text-align: right;\n",
       "    }\n",
       "</style>\n",
       "<table border=\"1\" class=\"dataframe\">\n",
       "  <thead>\n",
       "    <tr style=\"text-align: right;\">\n",
       "      <th></th>\n",
       "      <th>missing_value_count</th>\n",
       "      <th>% of dataset</th>\n",
       "    </tr>\n",
       "  </thead>\n",
       "  <tbody>\n",
       "    <tr>\n",
       "      <th>selftext</th>\n",
       "      <td>895</td>\n",
       "      <td>13.8</td>\n",
       "    </tr>\n",
       "    <tr>\n",
       "      <th>text</th>\n",
       "      <td>895</td>\n",
       "      <td>13.8</td>\n",
       "    </tr>\n",
       "  </tbody>\n",
       "</table>\n",
       "</div>"
      ],
      "text/plain": [
       "          missing_value_count  % of dataset\n",
       "selftext                  895          13.8\n",
       "text                      895          13.8"
      ]
     },
     "execution_count": 5,
     "metadata": {},
     "output_type": "execute_result"
    }
   ],
   "source": [
    "# Check Null values\n",
    "null_stats = pd.DataFrame(df.isnull().sum(), columns = ['missing_value_count'])\n",
    "null_stats.loc[:,'% of dataset'] = np.round(null_stats.loc[:,'missing_value_count']/df.shape[0]*100,2)\n",
    "null_stats.loc[null_stats.loc[:,'missing_value_count']>0,:].sort_values(by='missing_value_count',ascending=False)"
   ]
  },
  {
   "cell_type": "code",
   "execution_count": 6,
   "id": "4da4489d",
   "metadata": {},
   "outputs": [],
   "source": [
    "# Remove rows with null values\n",
    "df.dropna(subset =['text'],inplace=True)"
   ]
  },
  {
   "cell_type": "markdown",
   "id": "e530055b",
   "metadata": {},
   "source": [
    "The null values are consistent with the difference in the number of rows between the inital 2 dataframes. As it is just 5 rows out of the over 3000 rows, removing them would not incur much of a difference to the training of the model. \n",
    "\n",
    "Now that the data is removed of null values it is ready for further processing. This includes tokenizing and lemmatization. "
   ]
  },
  {
   "cell_type": "code",
   "execution_count": 7,
   "id": "06568731",
   "metadata": {},
   "outputs": [],
   "source": [
    "# Instantiate Lemmatizer\n",
    "wn = nltk.WordNetLemmatizer()\n",
    "\n",
    "# Instantiate stopwords\n",
    "stopwords = nltk.corpus.stopwords.words('english')"
   ]
  },
  {
   "cell_type": "code",
   "execution_count": 8,
   "id": "eeca0cd8",
   "metadata": {},
   "outputs": [],
   "source": [
    "# Create function to automate the process\n",
    "def clean_text(text):\n",
    "    text = ''.join([word.lower() for word in text if word not in string.punctuation])\n",
    "    tokens = re.split('\\W+', text)\n",
    "    text = ' '.join([wn.lemmatize(word) for word in tokens if word not in stopwords])\n",
    "    return text"
   ]
  },
  {
   "cell_type": "code",
   "execution_count": 9,
   "id": "adc764a9",
   "metadata": {},
   "outputs": [],
   "source": [
    "# Apply function to df\n",
    "df['clean_text'] = df['text'].apply(clean_text)"
   ]
  },
  {
   "cell_type": "code",
   "execution_count": 10,
   "id": "0d0e729a",
   "metadata": {},
   "outputs": [
    {
     "data": {
      "text/html": [
       "<div>\n",
       "<style scoped>\n",
       "    .dataframe tbody tr th:only-of-type {\n",
       "        vertical-align: middle;\n",
       "    }\n",
       "\n",
       "    .dataframe tbody tr th {\n",
       "        vertical-align: top;\n",
       "    }\n",
       "\n",
       "    .dataframe thead th {\n",
       "        text-align: right;\n",
       "    }\n",
       "</style>\n",
       "<table border=\"1\" class=\"dataframe\">\n",
       "  <thead>\n",
       "    <tr style=\"text-align: right;\">\n",
       "      <th></th>\n",
       "      <th>subreddit</th>\n",
       "      <th>selftext</th>\n",
       "      <th>title</th>\n",
       "      <th>text</th>\n",
       "      <th>clean_text</th>\n",
       "    </tr>\n",
       "  </thead>\n",
       "  <tbody>\n",
       "    <tr>\n",
       "      <th>0</th>\n",
       "      <td>codingbootcamp</td>\n",
       "      <td>Helloo!! I‘m looking for bootcamps and the bes...</td>\n",
       "      <td>IronHack vs Le Wagon</td>\n",
       "      <td>Helloo!! I‘m looking for bootcamps and the bes...</td>\n",
       "      <td>helloo looking bootcamps best two option found...</td>\n",
       "    </tr>\n",
       "    <tr>\n",
       "      <th>1</th>\n",
       "      <td>codingbootcamp</td>\n",
       "      <td>So I’ve been accepted into a local college tha...</td>\n",
       "      <td>Is an associates degree enough?</td>\n",
       "      <td>So I’ve been accepted into a local college tha...</td>\n",
       "      <td>accepted local college offer college name dipl...</td>\n",
       "    </tr>\n",
       "    <tr>\n",
       "      <th>2</th>\n",
       "      <td>codingbootcamp</td>\n",
       "      <td>I mean while it does sound too good to be true...</td>\n",
       "      <td>Is freecodingbootcamp.org legit?</td>\n",
       "      <td>I mean while it does sound too good to be true...</td>\n",
       "      <td>mean sound good true im sure anyone would go p...</td>\n",
       "    </tr>\n",
       "    <tr>\n",
       "      <th>3</th>\n",
       "      <td>codingbootcamp</td>\n",
       "      <td>Hey guys, so I been holding onto the idea of b...</td>\n",
       "      <td>Artist to Coder, What are my options?</td>\n",
       "      <td>Hey guys, so I been holding onto the idea of b...</td>\n",
       "      <td>hey guy holding onto idea becoming immersed wo...</td>\n",
       "    </tr>\n",
       "    <tr>\n",
       "      <th>5</th>\n",
       "      <td>codingbootcamp</td>\n",
       "      <td>Hey everyone, is there any survey on entry lev...</td>\n",
       "      <td>Entry Level Developer Salary</td>\n",
       "      <td>Hey everyone, is there any survey on entry lev...</td>\n",
       "      <td>hey everyone survey entry level bootcamp gradu...</td>\n",
       "    </tr>\n",
       "  </tbody>\n",
       "</table>\n",
       "</div>"
      ],
      "text/plain": [
       "        subreddit                                           selftext  \\\n",
       "0  codingbootcamp  Helloo!! I‘m looking for bootcamps and the bes...   \n",
       "1  codingbootcamp  So I’ve been accepted into a local college tha...   \n",
       "2  codingbootcamp  I mean while it does sound too good to be true...   \n",
       "3  codingbootcamp  Hey guys, so I been holding onto the idea of b...   \n",
       "5  codingbootcamp  Hey everyone, is there any survey on entry lev...   \n",
       "\n",
       "                                   title  \\\n",
       "0                   IronHack vs Le Wagon   \n",
       "1        Is an associates degree enough?   \n",
       "2       Is freecodingbootcamp.org legit?   \n",
       "3  Artist to Coder, What are my options?   \n",
       "5           Entry Level Developer Salary   \n",
       "\n",
       "                                                text  \\\n",
       "0  Helloo!! I‘m looking for bootcamps and the bes...   \n",
       "1  So I’ve been accepted into a local college tha...   \n",
       "2  I mean while it does sound too good to be true...   \n",
       "3  Hey guys, so I been holding onto the idea of b...   \n",
       "5  Hey everyone, is there any survey on entry lev...   \n",
       "\n",
       "                                          clean_text  \n",
       "0  helloo looking bootcamps best two option found...  \n",
       "1  accepted local college offer college name dipl...  \n",
       "2  mean sound good true im sure anyone would go p...  \n",
       "3  hey guy holding onto idea becoming immersed wo...  \n",
       "5  hey everyone survey entry level bootcamp gradu...  "
      ]
     },
     "execution_count": 10,
     "metadata": {},
     "output_type": "execute_result"
    }
   ],
   "source": [
    "df.head()"
   ]
  },
  {
   "cell_type": "markdown",
   "id": "a49fbfce",
   "metadata": {},
   "source": [
    "The clean_text is now ready for EDA and model training. "
   ]
  },
  {
   "cell_type": "markdown",
   "id": "b46c30ba",
   "metadata": {},
   "source": [
    "### EDA"
   ]
  },
  {
   "cell_type": "markdown",
   "id": "b6cf2d19",
   "metadata": {},
   "source": [
    "As the problem statement dictates, it is important identify keywords that highlight the individual subreddits. \n",
    "\n",
    "Begin by splitting the dataframe into the individual subreddits."
   ]
  },
  {
   "cell_type": "code",
   "execution_count": 11,
   "id": "0389daf5",
   "metadata": {},
   "outputs": [],
   "source": [
    "# Split df to the 2 subreddits; codingbootcamp, csmajors\n",
    "\n",
    "cbc_clean = df[df['subreddit'] == 'codingbootcamp']\n",
    "cm_clean = df[df['subreddit'] == 'csMajors']"
   ]
  },
  {
   "cell_type": "markdown",
   "id": "11748d2d",
   "metadata": {},
   "source": [
    "To identify the most used words, the dataframes need to go through a series of processes. It involves vectorizing the dataframe, then into a sparse matrix, before it the individual words can be summed up for evaluation."
   ]
  },
  {
   "cell_type": "code",
   "execution_count": 12,
   "id": "4b688ad4",
   "metadata": {},
   "outputs": [],
   "source": [
    "# Create a function to vectorize and create sparse matrix for df and return the word count\n",
    "\n",
    "def sparse_ngram(df, num, top):\n",
    "    #create ngram\n",
    "    vectorizer = CountVectorizer(ngram_range=(num,num))\n",
    "    #fit transform\n",
    "    matrix = vectorizer.fit_transform(df)\n",
    "    # Create sparse matrix and store as df\n",
    "    df_matrix = pd.DataFrame(data = matrix.toarray(), \n",
    "                             columns = vectorizer.get_feature_names_out())\n",
    "    \n",
    "    count = df_matrix.sum(axis=0)\n",
    "    print(count.sort_values(ascending=False).head(top))\n",
    "    \n",
    "    return count"
   ]
  },
  {
   "cell_type": "code",
   "execution_count": 13,
   "id": "1984ac18",
   "metadata": {},
   "outputs": [
    {
     "name": "stdout",
     "output_type": "stream",
     "text": [
      "bootcamp      2207\n",
      "coding        1544\n",
      "job           1427\n",
      "would         1238\n",
      "get           1149\n",
      "im            1117\n",
      "like          1095\n",
      "time          1083\n",
      "know           900\n",
      "experience     824\n",
      "program        823\n",
      "camp           788\n",
      "course         774\n",
      "want           756\n",
      "anyone         738\n",
      "one            720\n",
      "boot           710\n",
      "work           697\n",
      "looking        658\n",
      "bootcamps      633\n",
      "year           629\n",
      "good           618\n",
      "learn          610\n",
      "also           574\n",
      "people         571\n",
      "really         566\n",
      "week           554\n",
      "help           553\n",
      "career         542\n",
      "month          491\n",
      "ive            483\n",
      "need           482\n",
      "learning       463\n",
      "start          462\n",
      "make           458\n",
      "code           453\n",
      "dont           450\n",
      "question       437\n",
      "degree         432\n",
      "go             431\n",
      "tech           428\n",
      "full           418\n",
      "going          398\n",
      "software       397\n",
      "project        396\n",
      "lot            395\n",
      "academy        381\n",
      "much           376\n",
      "take           374\n",
      "feel           368\n",
      "dtype: int64\n"
     ]
    }
   ],
   "source": [
    "# Use function to create unigram sparse df of both cbc_clean\n",
    "\n",
    "cbc_uni = sparse_ngram(cbc_clean['clean_text'],1, 50)"
   ]
  },
  {
   "cell_type": "markdown",
   "id": "c6cad2f2",
   "metadata": {},
   "source": [
    "From these top 50 words, 'bootcamp' and 'bootcamps' are identified. As it is in the name of the subreddit, it would not be a good indicator of keywords that highlight the subreddit, so it will be removed. The word coding was left in as its a term used for describing the different coding languages, techniques, preference in the industry. In this list there are also other stopwords to be removed such as 'im', 'also', 'really' ive', etc. that on its own does not really make much sense. By removing these stopwords, it would give a better indicator of words that key to this subreddit. "
   ]
  },
  {
   "cell_type": "code",
   "execution_count": 14,
   "id": "f7e78234",
   "metadata": {},
   "outputs": [],
   "source": [
    "# List to stopwords to remove\n",
    "cbc_stopwords = ['bootcamp', 'would', 'get', 'im', 'like', 'know','anyone','boot', 'good', 'question', 'people', 'help', 'camp', 'want', 'one', 'looking', 'bootcamps', 'also', 'really', 'need', 'ive', 'make', 'dont', 'go', 'going', 'lot', 'take', 'much']\n"
   ]
  },
  {
   "cell_type": "code",
   "execution_count": 15,
   "id": "7467f82b",
   "metadata": {},
   "outputs": [],
   "source": [
    "# Create function to remove stopwords\n",
    "def remove_stopwords(df, stopwords):\n",
    "    df = df .split(' ')\n",
    "    text = ' '.join([word for word in df if word not in stopwords])\n",
    "    return text"
   ]
  },
  {
   "cell_type": "code",
   "execution_count": 16,
   "id": "a2b3b1e9",
   "metadata": {},
   "outputs": [],
   "source": [
    "# Remove stopwords from cbc_clean\n",
    "cbc_clean['clean_text'] = cbc_clean['clean_text'].apply(lambda x: remove_stopwords(x, cbc_stopwords))"
   ]
  },
  {
   "cell_type": "code",
   "execution_count": 17,
   "id": "9bccde10",
   "metadata": {},
   "outputs": [
    {
     "name": "stdout",
     "output_type": "stream",
     "text": [
      "coding        1544\n",
      "job           1427\n",
      "time          1083\n",
      "experience     824\n",
      "program        823\n",
      "course         774\n",
      "work           697\n",
      "year           629\n",
      "learn          610\n",
      "week           554\n",
      "career         542\n",
      "month          491\n",
      "learning       463\n",
      "start          462\n",
      "code           453\n",
      "degree         432\n",
      "tech           428\n",
      "full           418\n",
      "software       397\n",
      "project        396\n",
      "dtype: int64\n"
     ]
    }
   ],
   "source": [
    "# Recrreate matrix\n",
    "cbc_uni = sparse_ngram(cbc_clean['clean_text'],1,20)"
   ]
  },
  {
   "cell_type": "markdown",
   "id": "88d6566c",
   "metadata": {},
   "source": [
    "From here the top 20 words now give a hint of what the subreddit contains. This also expresses the concerns and importance that the individuals have. "
   ]
  },
  {
   "cell_type": "code",
   "execution_count": 18,
   "id": "2b2322e3",
   "metadata": {},
   "outputs": [
    {
     "data": {
      "text/plain": [
       "coding        1544\n",
       "job           1427\n",
       "time          1083\n",
       "experience     824\n",
       "program        823\n",
       "course         774\n",
       "work           697\n",
       "year           629\n",
       "learn          610\n",
       "week           554\n",
       "career         542\n",
       "month          491\n",
       "learning       463\n",
       "start          462\n",
       "code           453\n",
       "degree         432\n",
       "tech           428\n",
       "full           418\n",
       "software       397\n",
       "project        396\n",
       "dtype: int64"
      ]
     },
     "execution_count": 18,
     "metadata": {},
     "output_type": "execute_result"
    }
   ],
   "source": [
    "# Save top 20 words into df\n",
    "top_cbc_uni = cbc_uni.sort_values(ascending=False).head(20 )\n",
    "\n",
    "top_cbc_uni"
   ]
  },
  {
   "cell_type": "code",
   "execution_count": 19,
   "id": "1d3a204e",
   "metadata": {},
   "outputs": [
    {
     "data": {
      "image/png": "[encoded data removed]",
      "text/plain": [
       "<Figure size 576x576 with 1 Axes>"
      ]
     },
     "metadata": {
      "needs_background": "light"
     },
     "output_type": "display_data"
    }
   ],
   "source": [
    "# plot top 20 words into a bar chart\n",
    "cbc_bar = top_cbc_uni.plot(kind = 'barh', figsize = (8,8))\n",
    "\n",
    "cbc_bar.set_title('Codingbootcamp Subreddit Top 20 Words', fontsize=20)\n",
    "cbc_bar.set_ylabel('Words', fontsize=15)\n",
    "cbc_bar.set_xlabel('Count', fontsize=15)\n",
    "plt.xticks(rotation=45);\n",
    "\n",
    "plt.savefig('visuals/cbc_uni20.png')"
   ]
  },
  {
   "cell_type": "markdown",
   "id": "cc5d87ee",
   "metadata": {},
   "source": [
    "By creating the bar plot, it gives a clearer picture of what these top 20 words are. "
   ]
  },
  {
   "cell_type": "markdown",
   "id": "4d14edca",
   "metadata": {},
   "source": [
    "Now to do the same to r/csMajors. "
   ]
  },
  {
   "cell_type": "code",
   "execution_count": 20,
   "id": "c7d621f0",
   "metadata": {},
   "outputs": [
    {
     "name": "stdout",
     "output_type": "stream",
     "text": [
      "interview     1435\n",
      "internship    1368\n",
      "offer         1152\n",
      "company        832\n",
      "would          831\n",
      "anyone         812\n",
      "im             808\n",
      "get            758\n",
      "like           736\n",
      "intern         720\n",
      "know           650\n",
      "got            635\n",
      "question       614\n",
      "one            590\n",
      "swe            582\n",
      "time           578\n",
      "year           547\n",
      "summer         492\n",
      "also           434\n",
      "job            427\n",
      "round          425\n",
      "experience     407\n",
      "work           406\n",
      "new            406\n",
      "week           405\n",
      "really         404\n",
      "view           398\n",
      "back           390\n",
      "want           383\n",
      "grad           375\n",
      "final          369\n",
      "good           368\n",
      "next           356\n",
      "take           336\n",
      "oa             331\n",
      "people         321\n",
      "dont           314\n",
      "first          313\n",
      "recruiter      307\n",
      "project        307\n",
      "think          299\n",
      "still          292\n",
      "tech           292\n",
      "resume         291\n",
      "school         284\n",
      "even           283\n",
      "getting        278\n",
      "much           278\n",
      "feel           275\n",
      "class          275\n",
      "dtype: int64\n"
     ]
    }
   ],
   "source": [
    "cm_uni = sparse_ngram(cm_clean['clean_text'],1, 50)"
   ]
  },
  {
   "cell_type": "code",
   "execution_count": 21,
   "id": "f8b69f23",
   "metadata": {},
   "outputs": [],
   "source": [
    "# List to stopwords to remove\n",
    "cm_stopwords = ['would', 'anyone', 'im', 'get', 'like', 'view', 'round', 'one', 'know', 'got', 'question', 'also', 'really', 'back', 'want', 'good', 'people', 'dont', 'think', 'first', 'still', 'even', 'much', 'getting']"
   ]
  },
  {
   "cell_type": "code",
   "execution_count": 22,
   "id": "7d601c27",
   "metadata": {},
   "outputs": [],
   "source": [
    "# Remove stopwords from cbc_clean\n",
    "\n",
    "cm_clean['clean_text'] = cm_clean['clean_text'].apply(lambda x: remove_stopwords(x, cm_stopwords))"
   ]
  },
  {
   "cell_type": "code",
   "execution_count": 23,
   "id": "ac1adaca",
   "metadata": {},
   "outputs": [
    {
     "name": "stdout",
     "output_type": "stream",
     "text": [
      "interview     1435\n",
      "internship    1368\n",
      "offer         1152\n",
      "company        832\n",
      "intern         720\n",
      "swe            582\n",
      "time           578\n",
      "year           547\n",
      "summer         492\n",
      "job            427\n",
      "experience     407\n",
      "new            406\n",
      "work           406\n",
      "week           405\n",
      "grad           375\n",
      "final          369\n",
      "next           356\n",
      "take           336\n",
      "oa             331\n",
      "project        307\n",
      "recruiter      307\n",
      "tech           292\n",
      "resume         291\n",
      "school         284\n",
      "class          275\n",
      "feel           275\n",
      "heard          271\n",
      "technical      265\n",
      "2023           263\n",
      "day            259\n",
      "dtype: int64\n"
     ]
    }
   ],
   "source": [
    "# Recrreate matrix\n",
    "cm_uni = sparse_ngram(cm_clean['clean_text'],1,30)"
   ]
  },
  {
   "cell_type": "code",
   "execution_count": 24,
   "id": "34c24e7a",
   "metadata": {},
   "outputs": [],
   "source": [
    "# Save top 20 words into df\n",
    "top_cm_uni = cm_uni.sort_values(ascending=False).head(20 )"
   ]
  },
  {
   "cell_type": "code",
   "execution_count": 25,
   "id": "b7369bde",
   "metadata": {},
   "outputs": [
    {
     "data": {
      "image/png": "[encoded data removed]",
      "text/plain": [
       "<Figure size 576x576 with 1 Axes>"
      ]
     },
     "metadata": {
      "needs_background": "light"
     },
     "output_type": "display_data"
    }
   ],
   "source": [
    "# plot top 20 words into a bar chart\n",
    "cm_bar = top_cm_uni.plot(kind = 'barh', figsize = (8,8))\n",
    "\n",
    "cm_bar.set_title('CsMajors Subreddit Top 20 Words', fontsize=20)\n",
    "cm_bar.set_ylabel('Words', fontsize=15)\n",
    "cm_bar.set_xlabel('Count', fontsize=15)\n",
    "plt.xticks(rotation=45);\n",
    "\n",
    "plt.savefig('visuals/cm_uni20.png')"
   ]
  },
  {
   "cell_type": "markdown",
   "id": "2559336c",
   "metadata": {},
   "source": [
    "As singular words do not offer a clear big picture of each subreddit, creating 2-word and 3-word lists would aid in paint this picture. "
   ]
  },
  {
   "cell_type": "code",
   "execution_count": 26,
   "id": "d54bcefc",
   "metadata": {},
   "outputs": [
    {
     "name": "stdout",
     "output_type": "stream",
     "text": [
      "hack reactor            242\n",
      "full time               183\n",
      "app academy             174\n",
      "part time               172\n",
      "full stack              167\n",
      "software engineering    144\n",
      "general assembly        115\n",
      "web development         101\n",
      "html cs                  87\n",
      "software engineer        84\n",
      "technical interview      83\n",
      "computer science         78\n",
      "tech elevator            75\n",
      "find job                 73\n",
      "career change            67\n",
      "year old                 58\n",
      "data science             57\n",
      "software development     56\n",
      "web dev                  56\n",
      "coding experience        56\n",
      "dtype: int64\n"
     ]
    }
   ],
   "source": [
    "# codingbootcamp top 2-word\n",
    "top_cbc_bi = sparse_ngram(cbc_clean['clean_text'],2,20).sort_values(ascending=False).head(20 )"
   ]
  },
  {
   "cell_type": "code",
   "execution_count": 27,
   "id": "0e10e470",
   "metadata": {},
   "outputs": [
    {
     "data": {
      "image/png": "[encoded data removed]",
      "text/plain": [
       "<Figure size 576x576 with 1 Axes>"
      ]
     },
     "metadata": {
      "needs_background": "light"
     },
     "output_type": "display_data"
    }
   ],
   "source": [
    "# plot top 20 words into a bar chart\n",
    "cbcbi_bar = top_cbc_bi.plot(kind = 'barh', figsize = (8,8))\n",
    "\n",
    "cbcbi_bar.set_title('Codingbootcamp Subreddit Top 20 2-Words', fontsize=20)\n",
    "cbcbi_bar.set_ylabel('Words', fontsize=15)\n",
    "cbcbi_bar.set_xlabel('Count', fontsize=15)\n",
    "plt.xticks(rotation=90);\n",
    "\n",
    "plt.savefig('visuals/cbc_bi20.png')"
   ]
  },
  {
   "cell_type": "code",
   "execution_count": 28,
   "id": "e3607a08",
   "metadata": {},
   "outputs": [
    {
     "name": "stdout",
     "output_type": "stream",
     "text": [
      "new grad                289\n",
      "swe intern              175\n",
      "return offer            153\n",
      "swe internship          137\n",
      "final interview         126\n",
      "computer science        107\n",
      "summer 2023              97\n",
      "full time                85\n",
      "technical interview      78\n",
      "summer internship        73\n",
      "next year                72\n",
      "software engineer        70\n",
      "software engineering     68\n",
      "interview process        62\n",
      "tech company             61\n",
      "big tech                 61\n",
      "internship offer         59\n",
      "long take                55\n",
      "google step              53\n",
      "phone screen             52\n",
      "dtype: int64\n"
     ]
    }
   ],
   "source": [
    "# csmajors top 2-word\n",
    "top_cm_bi = sparse_ngram(cm_clean['clean_text'],2,20).sort_values(ascending=False).head(20 )"
   ]
  },
  {
   "cell_type": "code",
   "execution_count": 29,
   "id": "8f40b776",
   "metadata": {},
   "outputs": [
    {
     "data": {
      "image/png": "[encoded data removed]",
      "text/plain": [
       "<Figure size 576x576 with 1 Axes>"
      ]
     },
     "metadata": {
      "needs_background": "light"
     },
     "output_type": "display_data"
    }
   ],
   "source": [
    "# plot top 20 words into a bar chart\n",
    "cmbi_bar = top_cm_bi.plot(kind = 'barh', figsize = (8,8))\n",
    "\n",
    "cmbi_bar.set_title('CSMajors Subreddit Top 20 2-Words', fontsize=20)\n",
    "cmbi_bar.set_ylabel('Words', fontsize=15)\n",
    "cmbi_bar.set_xlabel('Count', fontsize=15)\n",
    "plt.xticks(rotation=90);\n",
    "\n",
    "plt.savefig('visuals/cm_bi20.png')"
   ]
  },
  {
   "cell_type": "markdown",
   "id": "71e14073",
   "metadata": {},
   "source": [
    "The similarities between r/codingbootcamp and r/csMajors are that there are mentions of words revolving around career. The difference is that r/codingbootcamp has stronger emphasis on the schools that offer the bootcamps. This indicates that the schools are very important in the choice for bootcamps. In r/csMajors, the emphasis are on internship placements, particularly a summer internship."
   ]
  },
  {
   "cell_type": "code",
   "execution_count": 30,
   "id": "80d939f9",
   "metadata": {},
   "outputs": [
    {
     "name": "stdout",
     "output_type": "stream",
     "text": [
      "work full time                  26\n",
      "data structure algorithm        25\n",
      "full time job                   25\n",
      "working full time               24\n",
      "full stack web                  22\n",
      "html cs javascript              21\n",
      "reactor 19 week                 19\n",
      "part time program               17\n",
      "hack reactor 19                 16\n",
      "long story short                16\n",
      "time part time                  16\n",
      "able find job                   16\n",
      "full stack development          15\n",
      "software engineering program    14\n",
      "computer science degree         14\n",
      "algorithm data structure        14\n",
      "full stack academy              13\n",
      "feel free comment               13\n",
      "19 week program                 13\n",
      "entry level job                 13\n",
      "dtype: int64\n"
     ]
    }
   ],
   "source": [
    "# coding bootcamp top 3-word\n",
    "top_cbc_tri = sparse_ngram(cbc_clean['clean_text'],3,20).sort_values(ascending=False).head(20)"
   ]
  },
  {
   "cell_type": "code",
   "execution_count": 31,
   "id": "5d6ce07e",
   "metadata": {},
   "outputs": [
    {
     "data": {
      "image/png": "[encoded data removed]",
      "text/plain": [
       "<Figure size 576x576 with 1 Axes>"
      ]
     },
     "metadata": {
      "needs_background": "light"
     },
     "output_type": "display_data"
    }
   ],
   "source": [
    "# plot top 20 words into a bar chart\n",
    "cbctri_bar = top_cbc_tri.plot(kind = 'barh', figsize = (8,8))\n",
    "\n",
    "cbctri_bar.set_title('Codingbootcamp Subreddit Top 20 3-Words', fontsize=20)\n",
    "cbctri_bar.set_ylabel('Words', fontsize=15)\n",
    "cbctri_bar.set_xlabel('Count', fontsize=15)\n",
    "plt.xticks(rotation=90);\n",
    "\n",
    "plt.savefig('visuals/cbc_tri20.png')"
   ]
  },
  {
   "cell_type": "code",
   "execution_count": 32,
   "id": "84c2e074",
   "metadata": {},
   "outputs": [
    {
     "name": "stdout",
     "output_type": "stream",
     "text": [
      "return offer rate                  25\n",
      "new grad role                      24\n",
      "summer 2023 internship             22\n",
      "new grad offer                     20\n",
      "swe intern interview               19\n",
      "long take hear                     18\n",
      "internship summer 2023             18\n",
      "software engineer intern           17\n",
      "intern summer 2023                 17\n",
      "work life balance                  16\n",
      "data structure algorithm           16\n",
      "new grad swe                       15\n",
      "big tech company                   15\n",
      "swe intern position                14\n",
      "new grad interview                 13\n",
      "internship next summer             13\n",
      "new grad position                  13\n",
      "software engineering internship    12\n",
      "havent heard anything              11\n",
      "software engineering intern        10\n",
      "dtype: int64\n"
     ]
    }
   ],
   "source": [
    "# csmajors top 3-word\n",
    "top_cm_tri = sparse_ngram(cm_clean['clean_text'],3,20).sort_values(ascending=False).head(20)"
   ]
  },
  {
   "cell_type": "code",
   "execution_count": 33,
   "id": "b968c78d",
   "metadata": {},
   "outputs": [
    {
     "data": {
      "image/png": "[encoded data removed]",
      "text/plain": [
       "<Figure size 576x576 with 1 Axes>"
      ]
     },
     "metadata": {
      "needs_background": "light"
     },
     "output_type": "display_data"
    }
   ],
   "source": [
    "# plot top 20 words into a bar chart\n",
    "cmtri_bar = top_cm_tri.plot(kind = 'barh', figsize = (8,8))\n",
    "\n",
    "cmtri_bar.set_title('CSMajors Subreddit Top 20 3-Words', fontsize=20)\n",
    "cmtri_bar.set_ylabel('Words', fontsize=15)\n",
    "cmtri_bar.set_xlabel('Count', fontsize=15)\n",
    "plt.xticks(rotation=90);\n",
    "\n",
    "plt.savefig('visuals/cm_tri20.png')"
   ]
  },
  {
   "cell_type": "markdown",
   "id": "a3d2c54f",
   "metadata": {},
   "source": [
    "From the 3-word breakdown, the line between the 2 subreddits are getting clearer. r/codingbootcamp has bigger emphasis on attaining a job. In general such career bootcamps are targetted to career switchers, this is also in the top 2-word (career switch). It makes sense that attaining a job is of great importance. In r/csMajors, there is strong emphasis in attaining an internship, particularly in summer. This is consistent with the equal emphasis in discussions about interviews.  "
   ]
  },
  {
   "cell_type": "code",
   "execution_count": 34,
   "id": "64046999",
   "metadata": {},
   "outputs": [],
   "source": [
    "# Save both df as csv\n",
    "cbc_clean.to_csv('data/cbc_clean.csv', index=False)\n",
    "cm_clean.to_csv('data/cm_clean.csv', index=False)"
   ]
  },
  {
   "cell_type": "markdown",
   "id": "6c8ec1c4",
   "metadata": {},
   "source": [
    "## Modelling"
   ]
  },
  {
   "cell_type": "markdown",
   "id": "26863c90",
   "metadata": {},
   "source": [
    "With the EDA completed, and the data further reduced, it is time to create a model that can help classify between the 2 subreddits. \n",
    "\n",
    "Begin with combining the 2 dataframes. "
   ]
  },
  {
   "cell_type": "code",
   "execution_count": 35,
   "id": "0959360c",
   "metadata": {},
   "outputs": [],
   "source": [
    "# Combine both dfs\n",
    "df_clean = pd.concat([cbc_clean, cm_clean], ignore_index=True)"
   ]
  },
  {
   "cell_type": "code",
   "execution_count": 36,
   "id": "bcb8fd7a",
   "metadata": {},
   "outputs": [],
   "source": [
    "# Save df as csv\n",
    "df_clean.to_csv('data/df_clean.csv', index=False)"
   ]
  },
  {
   "cell_type": "code",
   "execution_count": 37,
   "id": "47ebce2d",
   "metadata": {},
   "outputs": [],
   "source": [
    "# Define X and y\n",
    "X = df_clean['clean_text']\n",
    "y = df_clean['subreddit']"
   ]
  },
  {
   "cell_type": "markdown",
   "id": "2eb65e49",
   "metadata": {},
   "source": [
    "By using pipelines it would help automate and streamline the modelling process. Fed into the pipelines are the vectorizers and the classifiers to help train our models. By creating different vectorizer and classifier combinations, this allows for a choice of the best model combination. \n",
    "\n",
    "Vectorizers:\n",
    "- CountVectorizer\n",
    "- N-grams\n",
    "- TF-IDF\n",
    "\n",
    "Classifiers:\n",
    "- Bernoulli Naive Bayes\n",
    "- Multinomial Naive Bayes"
   ]
  },
  {
   "cell_type": "code",
   "execution_count": 38,
   "id": "49825088",
   "metadata": {},
   "outputs": [],
   "source": [
    "# Train test split\n",
    "X_train, X_test, y_train, y_test = train_test_split(X, y, test_size = .2, random_state = 42)"
   ]
  },
  {
   "cell_type": "code",
   "execution_count": 39,
   "id": "d6d11272",
   "metadata": {},
   "outputs": [
    {
     "name": "stdout",
     "output_type": "stream",
     "text": [
      "Model Score:  0.6887298747763864\n"
     ]
    }
   ],
   "source": [
    "# pipe\n",
    "# Instantiate a CountVectorizer + BernoulliNB\n",
    "pipe = Pipeline([('count', CountVectorizer(analyzer = 'word')),\n",
    "                ('Bern', BernoulliNB(binarize=True))])\n",
    "\n",
    "# Fit\n",
    "pipe.fit(X_train, y_train);\n",
    "\n",
    "# Evalute best model\n",
    "print('Model Score: ', pipe.score(X_test, y_test))"
   ]
  },
  {
   "cell_type": "code",
   "execution_count": 40,
   "id": "5c723fc6",
   "metadata": {},
   "outputs": [
    {
     "name": "stdout",
     "output_type": "stream",
     "text": [
      "Model Score:  0.9364937388193202\n"
     ]
    }
   ],
   "source": [
    "# pipe2\n",
    "# Instantiate a CountVectorizer + MultinomialNB\n",
    "pipe2 = Pipeline([('count', CountVectorizer(analyzer = 'word')),\n",
    "                ('Multi', MultinomialNB())])\n",
    "\n",
    "# Fit \n",
    "pipe2.fit(X_train, y_train);\n",
    "\n",
    "\n",
    "# Evalute best model\n",
    "print('Model Score: ', pipe2.score(X_test, y_test))"
   ]
  },
  {
   "cell_type": "code",
   "execution_count": 41,
   "id": "b4606cf7",
   "metadata": {},
   "outputs": [
    {
     "name": "stdout",
     "output_type": "stream",
     "text": [
      "Model Score:  0.5330948121645797\n"
     ]
    }
   ],
   "source": [
    "# pipe3\n",
    "# Instantiate a N-Gram + BernoulliNB\n",
    "pipe3 = Pipeline([('ngram', CountVectorizer(ngram_range=(1,3))),\n",
    "                ('Bern', BernoulliNB(binarize=True))])\n",
    "\n",
    "# Fit \n",
    "pipe3.fit(X_train, y_train);\n",
    "\n",
    "# Evalute best model\n",
    "print('Model Score: ', pipe3.score(X_test, y_test))"
   ]
  },
  {
   "cell_type": "code",
   "execution_count": 42,
   "id": "746f6c27",
   "metadata": {},
   "outputs": [
    {
     "name": "stdout",
     "output_type": "stream",
     "text": [
      "Model Score:  0.9400715563506261\n"
     ]
    }
   ],
   "source": [
    "# pipe4\n",
    "# Instantiate a N-Gram + MultinomialNB\n",
    "pipe4 = Pipeline([('ngram', CountVectorizer(ngram_range=(1,3))),\n",
    "                ('Multi', MultinomialNB())])\n",
    "\n",
    "# Fit the gridsearch object to data\n",
    "pipe4.fit(X_train, y_train);\n",
    "\n",
    "# Evalute best model\n",
    "print('Model Score: ', pipe4.score(X_test, y_test))"
   ]
  },
  {
   "cell_type": "code",
   "execution_count": 43,
   "id": "835983c0",
   "metadata": {},
   "outputs": [
    {
     "name": "stdout",
     "output_type": "stream",
     "text": [
      "Model Score:  0.5277280858676208\n"
     ]
    }
   ],
   "source": [
    "# pipe5\n",
    "# Instantiate a TF-IDF + BernoulliNB\n",
    "pipe5 = Pipeline([('tfidf', TfidfVectorizer(analyzer='word')),\n",
    "                ('Bern', BernoulliNB(binarize=True))])\n",
    "\n",
    "# Fit \n",
    "pipe5.fit(X_train, y_train);\n",
    "\n",
    "# Evalute best model\n",
    "print('Model Score: ', pipe5.score(X_test, y_test))"
   ]
  },
  {
   "cell_type": "code",
   "execution_count": 44,
   "id": "00ae2be2",
   "metadata": {},
   "outputs": [
    {
     "name": "stdout",
     "output_type": "stream",
     "text": [
      "Model Score:  0.9347048300536672\n"
     ]
    }
   ],
   "source": [
    "# pipe6\n",
    "# Instantiate a TF-IDF + MultinomialNB\n",
    "pipe6 = Pipeline([('tfidf', TfidfVectorizer(analyzer='word')),\n",
    "                ('Multi', MultinomialNB())])\n",
    "\n",
    "# Fit \n",
    "pipe6.fit(X_train, y_train);\n",
    "\n",
    "# Evalute best model\n",
    "print('Model Score: ', pipe6.score(X_test, y_test))"
   ]
  },
  {
   "cell_type": "markdown",
   "id": "74eeb423",
   "metadata": {},
   "source": [
    "Pipe4 achieved the best score of 0.940, followed closely by pipe2 and pipe6. Now to optimize pipe4 to find the best parameters so that a greater accuracy can be achieved."
   ]
  },
  {
   "cell_type": "code",
   "execution_count": 45,
   "id": "b957e71e",
   "metadata": {},
   "outputs": [
    {
     "data": {
      "text/plain": [
       "{'memory': None,\n",
       " 'steps': [('ngram', CountVectorizer(ngram_range=(1, 3))),\n",
       "  ('Multi', MultinomialNB())],\n",
       " 'verbose': False,\n",
       " 'ngram': CountVectorizer(ngram_range=(1, 3)),\n",
       " 'Multi': MultinomialNB(),\n",
       " 'ngram__analyzer': 'word',\n",
       " 'ngram__binary': False,\n",
       " 'ngram__decode_error': 'strict',\n",
       " 'ngram__dtype': numpy.int64,\n",
       " 'ngram__encoding': 'utf-8',\n",
       " 'ngram__input': 'content',\n",
       " 'ngram__lowercase': True,\n",
       " 'ngram__max_df': 1.0,\n",
       " 'ngram__max_features': None,\n",
       " 'ngram__min_df': 1,\n",
       " 'ngram__ngram_range': (1, 3),\n",
       " 'ngram__preprocessor': None,\n",
       " 'ngram__stop_words': None,\n",
       " 'ngram__strip_accents': None,\n",
       " 'ngram__token_pattern': '(?u)\\\\b\\\\w\\\\w+\\\\b',\n",
       " 'ngram__tokenizer': None,\n",
       " 'ngram__vocabulary': None,\n",
       " 'Multi__alpha': 1.0,\n",
       " 'Multi__class_prior': None,\n",
       " 'Multi__fit_prior': True}"
      ]
     },
     "execution_count": 45,
     "metadata": {},
     "output_type": "execute_result"
    }
   ],
   "source": [
    "# See parameters for pipe4\n",
    "\n",
    "pipe4.get_params()"
   ]
  },
  {
   "cell_type": "code",
   "execution_count": 46,
   "id": "ed185989",
   "metadata": {},
   "outputs": [
    {
     "name": "stdout",
     "output_type": "stream",
     "text": [
      "Fitting 5 folds for each of 75 candidates, totalling 375 fits\n",
      "Best Score:  0.9411773086873383\n",
      "Best Estimator:  Pipeline(steps=[('ngram',\n",
      "                 CountVectorizer(max_features=5000, ngram_range=(1, 3))),\n",
      "                ('Multi', MultinomialNB(alpha=0))])\n",
      "Model Score:  0.9499105545617174\n"
     ]
    }
   ],
   "source": [
    "# pipe4\n",
    "# Instantiate a N-Gram + MultinomialNB\n",
    "pipe4 = Pipeline([('ngram', CountVectorizer()),\n",
    "                ('Multi', MultinomialNB())])\n",
    "\n",
    "# Define dictionary hyperparameters\n",
    "pipe_params = {'ngram__ngram_range': [(1,1), (2,2), (3,3), (2,3), (1,3)],\n",
    "               'ngram__max_features': [5000, 7500, 10000],\n",
    "               'Multi__alpha' : [0, 0.2, 0.5, 0.75, 1]} \n",
    "\n",
    "# Instantiate GridSearchCV\n",
    "pipe_grid = GridSearchCV(pipe4,pipe_params, cv=5, verbose=1)\n",
    "\n",
    "# Fit the gridsearch object to data\n",
    "pipe_grid.fit(X_train, y_train);\n",
    "\n",
    "# Score\n",
    "print('Best Score: ', pipe_grid.best_score_)\n",
    "\n",
    "# Best estimator\n",
    "print('Best Estimator: ', pipe_grid.best_estimator_)\n",
    "\n",
    "# Evalute best model\n",
    "print('Model Score: ', pipe_grid.score(X_test, y_test))"
   ]
  },
  {
   "cell_type": "code",
   "execution_count": 47,
   "id": "cba3b639",
   "metadata": {},
   "outputs": [],
   "source": [
    "pred = pipe_grid.predict(X_test)"
   ]
  },
  {
   "cell_type": "code",
   "execution_count": 48,
   "id": "4a0ac8e4",
   "metadata": {},
   "outputs": [
    {
     "name": "stdout",
     "output_type": "stream",
     "text": [
      "[[507  21]\n",
      " [ 35 555]]\n",
      "                precision    recall  f1-score   support\n",
      "\n",
      "codingbootcamp       0.94      0.96      0.95       528\n",
      "      csMajors       0.96      0.94      0.95       590\n",
      "\n",
      "      accuracy                           0.95      1118\n",
      "     macro avg       0.95      0.95      0.95      1118\n",
      "  weighted avg       0.95      0.95      0.95      1118\n",
      "\n"
     ]
    }
   ],
   "source": [
    "# Display classfication metrics\n",
    "print(confusion_matrix(y_test, pred))\n",
    "print(classification_report(y_test, pred))"
   ]
  },
  {
   "cell_type": "markdown",
   "id": "c2339ca1",
   "metadata": {},
   "source": [
    "A confusion matrix is a convenient way to visualise a model's performance. From here we can we see that our predictions lined up very well with the actuals across the positive and negative subsets of the data. "
   ]
  },
  {
   "cell_type": "code",
   "execution_count": 49,
   "id": "29456e7f",
   "metadata": {},
   "outputs": [
    {
     "data": {
      "image/png": "[encoded data removed]",
      "text/plain": [
       "<Figure size 432x288 with 1 Axes>"
      ]
     },
     "metadata": {
      "needs_background": "light"
     },
     "output_type": "display_data"
    }
   ],
   "source": [
    "# Plot ROC-AUC curve\n",
    "\n",
    "plot_roc_curve(pipe_grid, X_test, y_test)\n",
    "plt.plot([0,1],[0,1], label = 'baseline', linestyle='--')\n",
    "plt.legend();"
   ]
  },
  {
   "cell_type": "code",
   "execution_count": 50,
   "id": "247874cd",
   "metadata": {},
   "outputs": [
    {
     "data": {
      "text/plain": [
       "0.9861485618900874"
      ]
     },
     "execution_count": 50,
     "metadata": {},
     "output_type": "execute_result"
    }
   ],
   "source": [
    "roc_auc_score(y_test, pipe_grid.predict_proba(X_test)[:,1])"
   ]
  },
  {
   "cell_type": "markdown",
   "id": "e4b721ae",
   "metadata": {},
   "source": [
    "From this ROC-AUC curve, we can see that the score is at 98.6%, which is as good as it gets. This indicates that out positives and negatives are perfectly separated and out model is good. "
   ]
  },
  {
   "cell_type": "markdown",
   "id": "d9ed504a",
   "metadata": {},
   "source": [
    "#### Baseline model"
   ]
  },
  {
   "cell_type": "markdown",
   "id": "e665dc3d",
   "metadata": {},
   "source": [
    "A baseline model will be created based on 'obvious' keywords. \n",
    "The words are : bootcamp, bootcamps, boot, camp, coding, code. \n",
    "These words are chosen as they are what people would normally search for in relation to finding an appropriate bootcamp. "
   ]
  },
  {
   "cell_type": "code",
   "execution_count": 51,
   "id": "4af89f8d",
   "metadata": {},
   "outputs": [],
   "source": [
    "# List of obvious words\n",
    "baseline_words = ['bootcamp', 'bootcamps', 'boot', 'camp', 'code', 'coding']"
   ]
  },
  {
   "cell_type": "code",
   "execution_count": 52,
   "id": "002b8268",
   "metadata": {},
   "outputs": [],
   "source": [
    "# Create function to preprocess dataframe to only include the obvious words\n",
    "def baseline(text):\n",
    "    text = ''.join([word.lower() for word in text if word not in string.punctuation])\n",
    "    tokens = re.split('\\W+', text)\n",
    "    text = ' '.join([wn.lemmatize(word) for word in tokens if word in baseline_words])\n",
    "    return text"
   ]
  },
  {
   "cell_type": "code",
   "execution_count": 53,
   "id": "9a5560ad",
   "metadata": {},
   "outputs": [],
   "source": [
    "# Apply function to df\n",
    "df_clean['baseline'] = df_clean['text'].apply(baseline)"
   ]
  },
  {
   "cell_type": "code",
   "execution_count": 54,
   "id": "5bd2f05b",
   "metadata": {
    "scrolled": true
   },
   "outputs": [
    {
     "data": {
      "text/html": [
       "<div>\n",
       "<style scoped>\n",
       "    .dataframe tbody tr th:only-of-type {\n",
       "        vertical-align: middle;\n",
       "    }\n",
       "\n",
       "    .dataframe tbody tr th {\n",
       "        vertical-align: top;\n",
       "    }\n",
       "\n",
       "    .dataframe thead th {\n",
       "        text-align: right;\n",
       "    }\n",
       "</style>\n",
       "<table border=\"1\" class=\"dataframe\">\n",
       "  <thead>\n",
       "    <tr style=\"text-align: right;\">\n",
       "      <th></th>\n",
       "      <th>subreddit</th>\n",
       "      <th>selftext</th>\n",
       "      <th>title</th>\n",
       "      <th>text</th>\n",
       "      <th>clean_text</th>\n",
       "      <th>baseline</th>\n",
       "    </tr>\n",
       "  </thead>\n",
       "  <tbody>\n",
       "    <tr>\n",
       "      <th>0</th>\n",
       "      <td>codingbootcamp</td>\n",
       "      <td>Helloo!! I‘m looking for bootcamps and the bes...</td>\n",
       "      <td>IronHack vs Le Wagon</td>\n",
       "      <td>Helloo!! I‘m looking for bootcamps and the bes...</td>\n",
       "      <td>helloo best two option found presence south am...</td>\n",
       "      <td>bootcamps</td>\n",
       "    </tr>\n",
       "    <tr>\n",
       "      <th>1</th>\n",
       "      <td>codingbootcamp</td>\n",
       "      <td>So I’ve been accepted into a local college tha...</td>\n",
       "      <td>Is an associates degree enough?</td>\n",
       "      <td>So I’ve been accepted into a local college tha...</td>\n",
       "      <td>accepted local college offer college name dipl...</td>\n",
       "      <td></td>\n",
       "    </tr>\n",
       "    <tr>\n",
       "      <th>2</th>\n",
       "      <td>codingbootcamp</td>\n",
       "      <td>I mean while it does sound too good to be true...</td>\n",
       "      <td>Is freecodingbootcamp.org legit?</td>\n",
       "      <td>I mean while it does sound too good to be true...</td>\n",
       "      <td>mean sound true sure performing scam without r...</td>\n",
       "      <td>boot</td>\n",
       "    </tr>\n",
       "    <tr>\n",
       "      <th>3</th>\n",
       "      <td>codingbootcamp</td>\n",
       "      <td>Hey guys, so I been holding onto the idea of b...</td>\n",
       "      <td>Artist to Coder, What are my options?</td>\n",
       "      <td>Hey guys, so I been holding onto the idea of b...</td>\n",
       "      <td>hey guy holding onto idea becoming immersed wo...</td>\n",
       "      <td>coding coding coding bootcamp coding bootcamps...</td>\n",
       "    </tr>\n",
       "    <tr>\n",
       "      <th>4</th>\n",
       "      <td>codingbootcamp</td>\n",
       "      <td>Hey everyone, is there any survey on entry lev...</td>\n",
       "      <td>Entry Level Developer Salary</td>\n",
       "      <td>Hey everyone, is there any survey on entry lev...</td>\n",
       "      <td>hey everyone survey entry level graduate salar...</td>\n",
       "      <td>bootcamp</td>\n",
       "    </tr>\n",
       "  </tbody>\n",
       "</table>\n",
       "</div>"
      ],
      "text/plain": [
       "        subreddit                                           selftext  \\\n",
       "0  codingbootcamp  Helloo!! I‘m looking for bootcamps and the bes...   \n",
       "1  codingbootcamp  So I’ve been accepted into a local college tha...   \n",
       "2  codingbootcamp  I mean while it does sound too good to be true...   \n",
       "3  codingbootcamp  Hey guys, so I been holding onto the idea of b...   \n",
       "4  codingbootcamp  Hey everyone, is there any survey on entry lev...   \n",
       "\n",
       "                                   title  \\\n",
       "0                   IronHack vs Le Wagon   \n",
       "1        Is an associates degree enough?   \n",
       "2       Is freecodingbootcamp.org legit?   \n",
       "3  Artist to Coder, What are my options?   \n",
       "4           Entry Level Developer Salary   \n",
       "\n",
       "                                                text  \\\n",
       "0  Helloo!! I‘m looking for bootcamps and the bes...   \n",
       "1  So I’ve been accepted into a local college tha...   \n",
       "2  I mean while it does sound too good to be true...   \n",
       "3  Hey guys, so I been holding onto the idea of b...   \n",
       "4  Hey everyone, is there any survey on entry lev...   \n",
       "\n",
       "                                          clean_text  \\\n",
       "0  helloo best two option found presence south am...   \n",
       "1  accepted local college offer college name dipl...   \n",
       "2  mean sound true sure performing scam without r...   \n",
       "3  hey guy holding onto idea becoming immersed wo...   \n",
       "4  hey everyone survey entry level graduate salar...   \n",
       "\n",
       "                                            baseline  \n",
       "0                                          bootcamps  \n",
       "1                                                     \n",
       "2                                               boot  \n",
       "3  coding coding coding bootcamp coding bootcamps...  \n",
       "4                                           bootcamp  "
      ]
     },
     "execution_count": 54,
     "metadata": {},
     "output_type": "execute_result"
    }
   ],
   "source": [
    "df_clean.head()"
   ]
  },
  {
   "cell_type": "code",
   "execution_count": 55,
   "id": "92915725",
   "metadata": {},
   "outputs": [],
   "source": [
    "# Define X and y for baseline model\n",
    "bl_X = df_clean['baseline']\n",
    "bl_y = df_clean['subreddit']"
   ]
  },
  {
   "cell_type": "code",
   "execution_count": 56,
   "id": "da1cd702",
   "metadata": {},
   "outputs": [],
   "source": [
    "# Train test split for baseline model\n",
    "# Train test split\n",
    "X_train, X_test, y_train, y_test = train_test_split(bl_X, bl_y, test_size = .2, random_state = 42)"
   ]
  },
  {
   "cell_type": "code",
   "execution_count": 57,
   "id": "92bc0271",
   "metadata": {},
   "outputs": [
    {
     "name": "stdout",
     "output_type": "stream",
     "text": [
      "Fitting 5 folds for each of 75 candidates, totalling 375 fits\n",
      "Best Score:  0.8302375863922113\n",
      "Best Estimator:  Pipeline(steps=[('ngram',\n",
      "                 CountVectorizer(max_features=5000, ngram_range=(1, 3))),\n",
      "                ('Multi', MultinomialNB(alpha=0))])\n",
      "Model Score:  0.8121645796064401\n"
     ]
    }
   ],
   "source": [
    "# Fit model based on best model. #pipe4\n",
    "# Instantiate a N-Gram + MultinomialNB\n",
    "baseline_mod = Pipeline([('ngram', CountVectorizer()),\n",
    "                ('Multi', MultinomialNB())])\n",
    "\n",
    "# Define dictionary hyperparameters\n",
    "bl_pipe_params = {'ngram__ngram_range': [(1,1), (2,2), (3,3), (2,3), (1,3)],\n",
    "               'ngram__max_features': [5000, 7500, 10000],\n",
    "               'Multi__alpha' : [0, 0.2, 0.5, 0.75, 1]} \n",
    "\n",
    "# Instantiate GridSearchCV\n",
    "bl_pipe_grid = GridSearchCV(baseline_mod,bl_pipe_params, cv=5, verbose=1)\n",
    "\n",
    "# Fit the gridsearch object to data\n",
    "bl_pipe_grid.fit(X_train, y_train);\n",
    "\n",
    "# Score\n",
    "print('Best Score: ', bl_pipe_grid.best_score_)\n",
    "\n",
    "# Best estimator\n",
    "print('Best Estimator: ', bl_pipe_grid.best_estimator_)\n",
    "\n",
    "# Evalute best model\n",
    "print('Model Score: ', bl_pipe_grid.score(X_test, y_test))"
   ]
  },
  {
   "cell_type": "code",
   "execution_count": 58,
   "id": "bd7d1ad2",
   "metadata": {},
   "outputs": [],
   "source": [
    "bl_pred = bl_pipe_grid.predict(X_test)"
   ]
  },
  {
   "cell_type": "code",
   "execution_count": 59,
   "id": "9c2a5160",
   "metadata": {},
   "outputs": [
    {
     "name": "stdout",
     "output_type": "stream",
     "text": [
      "[[318 210]\n",
      " [  0 590]]\n",
      "                precision    recall  f1-score   support\n",
      "\n",
      "codingbootcamp       1.00      0.60      0.75       528\n",
      "      csMajors       0.74      1.00      0.85       590\n",
      "\n",
      "      accuracy                           0.81      1118\n",
      "     macro avg       0.87      0.80      0.80      1118\n",
      "  weighted avg       0.86      0.81      0.80      1118\n",
      "\n"
     ]
    }
   ],
   "source": [
    "# Display classfication metrics\n",
    "print(confusion_matrix(y_test, bl_pred))\n",
    "print(classification_report(y_test, bl_pred))"
   ]
  },
  {
   "cell_type": "markdown",
   "id": "df50ad9f",
   "metadata": {},
   "source": [
    "The baseline model displayed lesser consistency amongst the results as compared to selected best model. The f1 score on the baseline is also lower. This further enhance our best model's performance. "
   ]
  },
  {
   "cell_type": "markdown",
   "id": "dd48580f",
   "metadata": {},
   "source": [
    "## Evaluation"
   ]
  },
  {
   "cell_type": "markdown",
   "id": "fa032721",
   "metadata": {},
   "source": [
    "#### EDA\n",
    "From the EDA, the initial findings of the top words displayed a lot of words that needed to be removed. There are also words that are abbreviations or coined words that does not make much sense unless you are well versed in both coding bootcamp and CS majors lingo. But the findings from the EDA have been insightful. \n",
    "\n",
    "Coding bootcamp redditors discussions' revolve around the different schools that provide bootcamps and securing a job in the industry. It is promising to find 'General Assembly' in the top 20 2-words, however the competitors are still more talked about. This does indicate that General Assembly have ways to go in increasing its presence. The redditors of the subreddit also have placed emphasis in shorter courses. As 'career change' appears in the top 2-words, this indicates that those who choose bootcamps are career switchers and therefore are looking for shorter duration to ultimately get back on the workforce. \n",
    "\n",
    "CS majors redditors discussions' revolve around attaining internships. As computer science degrees average around a 4 year duration, it makes sense to see students looking for summer internships during their break. There are more talks about the interview process, technical interviews, and final interviews. As it is assumed that those in the degree course are young and have not entered the workforce, it is reasonable to see that their concerns would be how to get through the interview process. \n",
    "\n",
    "#### Modeling\n",
    "With the data having more stopwords removed after the EDA process, the model has shown great accuracy with a f1 score of 95%. This compared to our baseline model's score of 80% shows that our model definitely has higher accuracy. With this, the model would be able to resonably predict between bootcamp seekers and those looking for a 4-year course. By being able to identify between the 2, General Assembly marketing team can look closer across multiple social platforms and focus their marketing efforts in that direction. "
   ]
  },
  {
   "cell_type": "markdown",
   "id": "295f152c",
   "metadata": {},
   "source": [
    "## Conclusion and Recommendations"
   ]
  },
  {
   "cell_type": "markdown",
   "id": "8887f0e9",
   "metadata": {},
   "source": [
    "#### Moving forward\n",
    "With more time and resources, more data could be gathered not just from reddit, but across various online platforms. This could help the model identify across mediums as well. Like videos, images, and short texts.\n",
    "\n",
    "Along with that, a better understanding of the different acronyms and abbreviations within the text post would allow for a more thorough analysis and breakdown. \n",
    "\n",
    "Doing a sentiment analsis would also give a better picture of the difference between coding bootcamps and computer science majors. This allows for a different perspective of the students invovled in both educational choices. \n",
    "\n",
    "#### Recommendations\n",
    "Using the model to look at keywords.\n",
    "The features produced by the model will allow General Assembly marketing team to better identify suitable posts to engage with. \n",
    "\n",
    "Automating the model.\n",
    "Deployment of the model to automatically scan the social media interations across platforms. This helps the team to collate just the posts they need to engage with and evaluate. \n",
    "\n",
    "Marketing efforts.\n",
    "Boost marketing across channels to increase visibility and presence against competitors. By making use of the keywords marketing materials could hone in on those interested in the bootcamp type courses and maybe sway those looking at full degree programs to hop over. \n",
    "\n",
    "#### Conclusion\n",
    "General Assembly needs to stand out from our competitors and be able to accurately and effectively identify potential students. There is a need to increase visibility and be quick in response. In today's fast paced environment, speed is also essential in being able to act before our competitors.\n",
    "\n",
    "The model is able to correctly identify around 95% of the users who are interested in coding bootcamps. This would allow General Assembly to better maximise the marketing outreach and increase our conversation rate. "
   ]
  }
 ],
 "metadata": {
  "kernelspec": {
   "display_name": "Python 3 (ipykernel)",
   "language": "python",
   "name": "python3"
  },
  "language_info": {
   "codemirror_mode": {
    "name": "ipython",
    "version": 3
   },
   "file_extension": ".py",
   "mimetype": "text/x-python",
   "name": "python",
   "nbconvert_exporter": "python",
   "pygments_lexer": "ipython3",
   "version": "3.9.12"
  }
 },
 "nbformat": 4,
 "nbformat_minor": 5
}
