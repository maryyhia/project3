{
 "cells": [
  {
   "cell_type": "markdown",
   "id": "a3b355ec",
   "metadata": {},
   "source": [
    "# Project 3: Part 1\n",
    "## Web APIs & NLP"
   ]
  },
  {
   "cell_type": "markdown",
   "id": "92878d87",
   "metadata": {},
   "source": [
    "###  Background\n",
    "There has been a surge in demand for data professionals in recent years. This led to an increased competition in the space for coding bootcamps. Competitors like Hack Reactor, Le Wagon, Vertical Institute, and Rocket Academy, have risen to meet the demands. If no action is taken, General Assembly may be faced with decline in market share, poor marketing ROI, and poorer lead generation. \n",
    "\n",
    "The General Assembly marketing team would need to better identify the online presence of a bootcamp seeker as opposed to that of the computer science major to aid in tergeted advertising. As both are fairly similar in nature, efforts to further segregate the two targets could yield better advertising ROI.\n",
    "\n",
    "Keywords are an important aspect of the digital advertising, allowing for targeted strategies at all levels of the marketing funnel. They also guide marketing teams on the sort of advertising content that is required.\n",
    "\n",
    "Thus, the aim is to segment and target the right audience for amrketing efforts streamline marketing efforts, rasie brand awareness with interested individuals, and increase advertising ROI. "
   ]
  },
  {
   "cell_type": "markdown",
   "id": "80cc3719",
   "metadata": {},
   "source": [
    "### Problem Statement\n",
    "Build a model with at least 90% accuracy that helps to identify between those who are looking for bootcamp style learning as oppose to computer science majors or prospective students based on the words they use online. "
   ]
  },
  {
   "cell_type": "markdown",
   "id": "517dc9cb",
   "metadata": {},
   "source": [
    "## Data Collection\n",
    "This notebook will focus on scraping of raw data in prepatory for cleaning, EDA and modelling (Part 2). "
   ]
  },
  {
   "cell_type": "markdown",
   "id": "dcf66592",
   "metadata": {},
   "source": [
    "### Data Dictionary"
   ]
  },
  {
   "cell_type": "markdown",
   "id": "7de0fc40",
   "metadata": {},
   "source": [
    "#### Dataset name: df\n",
    "|Feature|Type|Description|\n",
    "|---|---|---|\n",
    "|subreddit|string| The subreddit the posts are extracted from|\n",
    "|title|string| Title of the posts|\n",
    "|selftext|string|Body of the posts|"
   ]
  },
  {
   "cell_type": "markdown",
   "id": "d50964a8",
   "metadata": {},
   "source": [
    "### Data Collection"
   ]
  },
  {
   "cell_type": "code",
   "execution_count": 1,
   "id": "4bcd808e",
   "metadata": {},
   "outputs": [],
   "source": [
    "import requests\n",
    "import pandas as pd\n",
    "import numpy as np\n",
    "import warnings\n",
    "warnings.filterwarnings('ignore')\n",
    "%matplotlib inline\n"
   ]
  },
  {
   "cell_type": "code",
   "execution_count": 2,
   "id": "49271b8d",
   "metadata": {},
   "outputs": [],
   "source": [
    "url = 'https://api.pushshift.io/reddit/search/submission'"
   ]
  },
  {
   "cell_type": "markdown",
   "id": "27fcf7c4",
   "metadata": {},
   "source": [
    "There is a strong active following on Reddit where topics about coding bootcamps and full computer science degrees are discussed at length. The good thing about a source like Reddit is that each subreddit are managed by moderators. This effectively reduces posts that could have potentially skewed our findings. \n",
    "\n",
    "Begin with having a look at the data that can be scraped. The group has decided on looking at these 2 subreddits:\n",
    "- r/codingbootcamp\n",
    "- r/csMajors"
   ]
  },
  {
   "cell_type": "markdown",
   "id": "db0025d2",
   "metadata": {},
   "source": [
    "#### First look at data\n",
    "The data needs to be scraped from Reddit. Using Reddit's Pushshift API we are able to attain the data we require. "
   ]
  },
  {
   "cell_type": "code",
   "execution_count": 3,
   "id": "a20a98cc",
   "metadata": {},
   "outputs": [],
   "source": [
    "# r/codingbootcamp\n",
    "# Set parameters for scraping\n",
    "params_cbc =  {\n",
    "    'subreddit':'codingbootcamp',\n",
    "    'size':500,\n",
    "    'sort': 'desc',\n",
    "    'sort_type': 'created_utc',\n",
    "    'is_video': False\n",
    "    }"
   ]
  },
  {
   "cell_type": "code",
   "execution_count": 4,
   "id": "cfa90f89",
   "metadata": {},
   "outputs": [],
   "source": [
    "# Submit request\n",
    "res_cbc = requests.get(url, params_cbc)"
   ]
  },
  {
   "cell_type": "code",
   "execution_count": 5,
   "id": "8f789d56",
   "metadata": {},
   "outputs": [
    {
     "data": {
      "text/plain": [
       "200"
      ]
     },
     "execution_count": 5,
     "metadata": {},
     "output_type": "execute_result"
    }
   ],
   "source": [
    "res_cbc.status_code"
   ]
  },
  {
   "cell_type": "code",
   "execution_count": 6,
   "id": "30e320cb",
   "metadata": {},
   "outputs": [],
   "source": [
    "data_cbc = res_cbc.json()"
   ]
  },
  {
   "cell_type": "code",
   "execution_count": 7,
   "id": "cbbbec6e",
   "metadata": {},
   "outputs": [],
   "source": [
    "# Extract just posts\n",
    "posts_cbc = data_cbc['data']"
   ]
  },
  {
   "cell_type": "code",
   "execution_count": 8,
   "id": "7f5f9b6e",
   "metadata": {},
   "outputs": [
    {
     "data": {
      "text/plain": [
       "250"
      ]
     },
     "execution_count": 8,
     "metadata": {},
     "output_type": "execute_result"
    }
   ],
   "source": [
    "len(posts_cbc)"
   ]
  },
  {
   "cell_type": "code",
   "execution_count": 9,
   "id": "3b36ca5b",
   "metadata": {},
   "outputs": [],
   "source": [
    "df_cbc = pd.DataFrame(posts_cbc)"
   ]
  },
  {
   "cell_type": "code",
   "execution_count": 10,
   "id": "9920de07",
   "metadata": {
    "scrolled": true
   },
   "outputs": [
    {
     "name": "stdout",
     "output_type": "stream",
     "text": [
      "<class 'pandas.core.frame.DataFrame'>\n",
      "RangeIndex: 250 entries, 0 to 249\n",
      "Data columns (total 77 columns):\n",
      " #   Column                         Non-Null Count  Dtype  \n",
      "---  ------                         --------------  -----  \n",
      " 0   all_awardings                  250 non-null    object \n",
      " 1   allow_live_comments            250 non-null    bool   \n",
      " 2   author                         250 non-null    object \n",
      " 3   author_flair_css_class         0 non-null      object \n",
      " 4   author_flair_richtext          249 non-null    object \n",
      " 5   author_flair_text              0 non-null      object \n",
      " 6   author_flair_type              249 non-null    object \n",
      " 7   author_fullname                249 non-null    object \n",
      " 8   author_is_blocked              250 non-null    bool   \n",
      " 9   author_patreon_flair           249 non-null    object \n",
      " 10  author_premium                 249 non-null    object \n",
      " 11  awarders                       250 non-null    object \n",
      " 12  can_mod_post                   250 non-null    bool   \n",
      " 13  contest_mode                   250 non-null    bool   \n",
      " 14  created_utc                    250 non-null    int64  \n",
      " 15  domain                         250 non-null    object \n",
      " 16  full_link                      250 non-null    object \n",
      " 17  gildings                       250 non-null    object \n",
      " 18  id                             250 non-null    object \n",
      " 19  is_created_from_ads_ui         250 non-null    bool   \n",
      " 20  is_crosspostable               250 non-null    bool   \n",
      " 21  is_meta                        250 non-null    bool   \n",
      " 22  is_original_content            250 non-null    bool   \n",
      " 23  is_reddit_media_domain         250 non-null    bool   \n",
      " 24  is_robot_indexable             250 non-null    bool   \n",
      " 25  is_self                        250 non-null    bool   \n",
      " 26  is_video                       250 non-null    bool   \n",
      " 27  link_flair_background_color    250 non-null    object \n",
      " 28  link_flair_richtext            250 non-null    object \n",
      " 29  link_flair_text_color          250 non-null    object \n",
      " 30  link_flair_type                250 non-null    object \n",
      " 31  locked                         250 non-null    bool   \n",
      " 32  media_only                     250 non-null    bool   \n",
      " 33  no_follow                      250 non-null    bool   \n",
      " 34  num_comments                   250 non-null    int64  \n",
      " 35  num_crossposts                 250 non-null    int64  \n",
      " 36  over_18                        250 non-null    bool   \n",
      " 37  parent_whitelist_status        250 non-null    object \n",
      " 38  permalink                      250 non-null    object \n",
      " 39  pinned                         250 non-null    bool   \n",
      " 40  pwls                           250 non-null    int64  \n",
      " 41  retrieved_on                   250 non-null    int64  \n",
      " 42  score                          250 non-null    int64  \n",
      " 43  selftext                       250 non-null    object \n",
      " 44  send_replies                   250 non-null    bool   \n",
      " 45  spoiler                        250 non-null    bool   \n",
      " 46  stickied                       250 non-null    bool   \n",
      " 47  subreddit                      250 non-null    object \n",
      " 48  subreddit_id                   250 non-null    object \n",
      " 49  subreddit_subscribers          250 non-null    int64  \n",
      " 50  subreddit_type                 250 non-null    object \n",
      " 51  thumbnail                      250 non-null    object \n",
      " 52  title                          250 non-null    object \n",
      " 53  total_awards_received          250 non-null    int64  \n",
      " 54  treatment_tags                 250 non-null    object \n",
      " 55  upvote_ratio                   250 non-null    float64\n",
      " 56  url                            250 non-null    object \n",
      " 57  whitelist_status               250 non-null    object \n",
      " 58  wls                            250 non-null    int64  \n",
      " 59  poll_data                      1 non-null      object \n",
      " 60  crosspost_parent               4 non-null      object \n",
      " 61  crosspost_parent_list          4 non-null      object \n",
      " 62  post_hint                      35 non-null     object \n",
      " 63  preview                        35 non-null     object \n",
      " 64  removed_by_category            36 non-null     object \n",
      " 65  url_overridden_by_dest         22 non-null     object \n",
      " 66  thumbnail_height               20 non-null     float64\n",
      " 67  thumbnail_width                20 non-null     float64\n",
      " 68  media                          5 non-null      object \n",
      " 69  media_embed                    5 non-null      object \n",
      " 70  secure_media                   5 non-null      object \n",
      " 71  secure_media_embed             5 non-null      object \n",
      " 72  is_gallery                     1 non-null      object \n",
      " 73  author_flair_background_color  1 non-null      object \n",
      " 74  author_flair_text_color        1 non-null      object \n",
      " 75  author_cakeday                 1 non-null      object \n",
      " 76  media_metadata                 1 non-null      object \n",
      "dtypes: bool(20), float64(3), int64(9), object(45)\n",
      "memory usage: 116.3+ KB\n"
     ]
    }
   ],
   "source": [
    "df_cbc.info()"
   ]
  },
  {
   "cell_type": "markdown",
   "id": "7a3a073c",
   "metadata": {},
   "source": [
    "As there are 77 columns shown, not all of them are necessary for what we are trying to achieve. By reducing this it will help with storage, speed, and accuracy. "
   ]
  },
  {
   "cell_type": "code",
   "execution_count": 11,
   "id": "3242b3a5",
   "metadata": {},
   "outputs": [
    {
     "data": {
      "text/html": [
       "<div>\n",
       "<style scoped>\n",
       "    .dataframe tbody tr th:only-of-type {\n",
       "        vertical-align: middle;\n",
       "    }\n",
       "\n",
       "    .dataframe tbody tr th {\n",
       "        vertical-align: top;\n",
       "    }\n",
       "\n",
       "    .dataframe thead th {\n",
       "        text-align: right;\n",
       "    }\n",
       "</style>\n",
       "<table border=\"1\" class=\"dataframe\">\n",
       "  <thead>\n",
       "    <tr style=\"text-align: right;\">\n",
       "      <th></th>\n",
       "      <th>subreddit</th>\n",
       "      <th>selftext</th>\n",
       "      <th>title</th>\n",
       "      <th>created_utc</th>\n",
       "    </tr>\n",
       "  </thead>\n",
       "  <tbody>\n",
       "    <tr>\n",
       "      <th>0</th>\n",
       "      <td>codingbootcamp</td>\n",
       "      <td>Looking for a career change to programming/cod...</td>\n",
       "      <td>Hello all, brand new to the coding world.</td>\n",
       "      <td>1669899316</td>\n",
       "    </tr>\n",
       "    <tr>\n",
       "      <th>1</th>\n",
       "      <td>codingbootcamp</td>\n",
       "      <td>https://www.codespaces.com/best-data-structure...</td>\n",
       "      <td>Just thought to share :)</td>\n",
       "      <td>1669897818</td>\n",
       "    </tr>\n",
       "    <tr>\n",
       "      <th>2</th>\n",
       "      <td>codingbootcamp</td>\n",
       "      <td>\\n\\n[View Poll](https://www.reddit.com/poll/z9...</td>\n",
       "      <td>I've considered taking up a bootcamp however, ...</td>\n",
       "      <td>1669856640</td>\n",
       "    </tr>\n",
       "    <tr>\n",
       "      <th>3</th>\n",
       "      <td>codingbootcamp</td>\n",
       "      <td>does anyone tried Le Wagon Bootcamp in Lausann...</td>\n",
       "      <td>Le Wagon bootcamp Lausanne</td>\n",
       "      <td>1669840304</td>\n",
       "    </tr>\n",
       "    <tr>\n",
       "      <th>4</th>\n",
       "      <td>codingbootcamp</td>\n",
       "      <td>I ask because they have so many five star revi...</td>\n",
       "      <td>Has anyone done Tech Elevator and not had a po...</td>\n",
       "      <td>1669839828</td>\n",
       "    </tr>\n",
       "  </tbody>\n",
       "</table>\n",
       "</div>"
      ],
      "text/plain": [
       "        subreddit                                           selftext  \\\n",
       "0  codingbootcamp  Looking for a career change to programming/cod...   \n",
       "1  codingbootcamp  https://www.codespaces.com/best-data-structure...   \n",
       "2  codingbootcamp  \\n\\n[View Poll](https://www.reddit.com/poll/z9...   \n",
       "3  codingbootcamp  does anyone tried Le Wagon Bootcamp in Lausann...   \n",
       "4  codingbootcamp  I ask because they have so many five star revi...   \n",
       "\n",
       "                                               title  created_utc  \n",
       "0          Hello all, brand new to the coding world.   1669899316  \n",
       "1                           Just thought to share :)   1669897818  \n",
       "2  I've considered taking up a bootcamp however, ...   1669856640  \n",
       "3                         Le Wagon bootcamp Lausanne   1669840304  \n",
       "4  Has anyone done Tech Elevator and not had a po...   1669839828  "
      ]
     },
     "execution_count": 11,
     "metadata": {},
     "output_type": "execute_result"
    }
   ],
   "source": [
    "df_cbc[['subreddit', 'selftext', 'title', 'created_utc']].head()"
   ]
  },
  {
   "cell_type": "code",
   "execution_count": 12,
   "id": "63750675",
   "metadata": {},
   "outputs": [
    {
     "name": "stdout",
     "output_type": "stream",
     "text": [
      "200\n",
      "250\n"
     ]
    },
    {
     "data": {
      "text/html": [
       "<div>\n",
       "<style scoped>\n",
       "    .dataframe tbody tr th:only-of-type {\n",
       "        vertical-align: middle;\n",
       "    }\n",
       "\n",
       "    .dataframe tbody tr th {\n",
       "        vertical-align: top;\n",
       "    }\n",
       "\n",
       "    .dataframe thead th {\n",
       "        text-align: right;\n",
       "    }\n",
       "</style>\n",
       "<table border=\"1\" class=\"dataframe\">\n",
       "  <thead>\n",
       "    <tr style=\"text-align: right;\">\n",
       "      <th></th>\n",
       "      <th>subreddit</th>\n",
       "      <th>selftext</th>\n",
       "      <th>title</th>\n",
       "      <th>created_utc</th>\n",
       "    </tr>\n",
       "  </thead>\n",
       "  <tbody>\n",
       "    <tr>\n",
       "      <th>0</th>\n",
       "      <td>csMajors</td>\n",
       "      <td>Honestly just curious about this one. I’m an u...</td>\n",
       "      <td>Stay @ UCLA or transfer to Berkeley</td>\n",
       "      <td>1669902859</td>\n",
       "    </tr>\n",
       "    <tr>\n",
       "      <th>1</th>\n",
       "      <td>csMajors</td>\n",
       "      <td>Title says it all. Have been in both Undergrad...</td>\n",
       "      <td>Know of any good online Masters of CS programs...</td>\n",
       "      <td>1669897046</td>\n",
       "    </tr>\n",
       "    <tr>\n",
       "      <th>2</th>\n",
       "      <td>csMajors</td>\n",
       "      <td>Hi,\\n\\nI know there’s lots of posts like this ...</td>\n",
       "      <td>Dropped out of college. What now?</td>\n",
       "      <td>1669895244</td>\n",
       "    </tr>\n",
       "    <tr>\n",
       "      <th>3</th>\n",
       "      <td>csMajors</td>\n",
       "      <td>Hi! I am really worried because I have no offe...</td>\n",
       "      <td>I am an international Sophomore student in the...</td>\n",
       "      <td>1669894479</td>\n",
       "    </tr>\n",
       "    <tr>\n",
       "      <th>4</th>\n",
       "      <td>csMajors</td>\n",
       "      <td>[removed]</td>\n",
       "      <td>Dark net site as experience</td>\n",
       "      <td>1669892017</td>\n",
       "    </tr>\n",
       "  </tbody>\n",
       "</table>\n",
       "</div>"
      ],
      "text/plain": [
       "  subreddit                                           selftext  \\\n",
       "0  csMajors  Honestly just curious about this one. I’m an u...   \n",
       "1  csMajors  Title says it all. Have been in both Undergrad...   \n",
       "2  csMajors  Hi,\\n\\nI know there’s lots of posts like this ...   \n",
       "3  csMajors  Hi! I am really worried because I have no offe...   \n",
       "4  csMajors                                          [removed]   \n",
       "\n",
       "                                               title  created_utc  \n",
       "0                Stay @ UCLA or transfer to Berkeley   1669902859  \n",
       "1  Know of any good online Masters of CS programs...   1669897046  \n",
       "2                  Dropped out of college. What now?   1669895244  \n",
       "3  I am an international Sophomore student in the...   1669894479  \n",
       "4                        Dark net site as experience   1669892017  "
      ]
     },
     "execution_count": 12,
     "metadata": {},
     "output_type": "execute_result"
    }
   ],
   "source": [
    "# r/csMajors\n",
    "# Set parameters, submit request, extract and store as df\n",
    "\n",
    "params_cm =  {\n",
    "    'subreddit':'csMajors',\n",
    "    'size':500,\n",
    "    'sort': 'desc',\n",
    "    'sort_type': 'created_utc',\n",
    "    'is_video': False}\n",
    "res_cm = requests.get(url, params_cm)\n",
    "print(res_cm.status_code)\n",
    "data_cm = res_cm.json()\n",
    "posts_cm = data_cm['data']\n",
    "print(len(posts_cm))\n",
    "df_cm = pd.DataFrame(posts_cm)\n",
    "df_cm[['subreddit', 'selftext', 'title', 'created_utc']].head()"
   ]
  },
  {
   "cell_type": "markdown",
   "id": "1131691a",
   "metadata": {},
   "source": [
    "From here, it shows that even though the limit is set to 500, only 249 posts from r/codingbootcamp and 250 posts from r/csMajors were scraped. This is definitely not enough to be use for model training. There will be a need to scrape at least 3000 or more as the size of the data could be reduced after cleaning. \n",
    "\n",
    "Created_utc is the timestamp for the post. It is necessary to take note of this to avoiding scraping the same data over and over. It is also a good indicator like a marker to show where the data was last scraped at. "
   ]
  },
  {
   "cell_type": "markdown",
   "id": "c416f3b0",
   "metadata": {},
   "source": [
    "#### Create function to automate scraping process and scrape >3000 posts"
   ]
  },
  {
   "cell_type": "code",
   "execution_count": 13,
   "id": "548d26ab",
   "metadata": {},
   "outputs": [],
   "source": [
    "# Define funtion\n",
    "def scrapedata(count, subreddit, before):\n",
    "    df = pd.DataFrame()\n",
    "    url='https://api.pushshift.io/reddit/search/submission'\n",
    "    for i in range(count):\n",
    "        params = {'subreddit': subreddit, 'size':250, 'before': before}\n",
    "        req = requests.get(url,params)\n",
    "        print(req.status_code)\n",
    "        data = req.json()\n",
    "        df = df.append(pd.DataFrame(data['data']))\n",
    "        df.reset_index(drop=True, inplace=True)\n",
    "        before=df.loc[len(df)-1,['created_utc']]\n",
    "        print(before)\n",
    "        i += 1\n",
    "    print(f'{len(df)} post scrapped')\n",
    "    return df\n"
   ]
  },
  {
   "cell_type": "code",
   "execution_count": 14,
   "id": "3378135e",
   "metadata": {},
   "outputs": [
    {
     "name": "stdout",
     "output_type": "stream",
     "text": [
      "200\n",
      "created_utc    1666690179\n",
      "Name: 248, dtype: object\n",
      "200\n",
      "created_utc    1664390254\n",
      "Name: 497, dtype: object\n",
      "200\n",
      "created_utc    1662067301\n",
      "Name: 746, dtype: object\n",
      "200\n",
      "created_utc    1659580596\n",
      "Name: 994, dtype: object\n",
      "200\n",
      "created_utc    1657032489\n",
      "Name: 1242, dtype: object\n",
      "200\n",
      "created_utc    1654274797\n",
      "Name: 1492, dtype: object\n",
      "200\n",
      "created_utc    1651628663\n",
      "Name: 1739, dtype: object\n",
      "200\n",
      "created_utc    1649373636\n",
      "Name: 1989, dtype: object\n",
      "200\n",
      "created_utc    1646067460\n",
      "Name: 2239, dtype: object\n",
      "200\n",
      "created_utc    1642694158\n",
      "Name: 2489, dtype: object\n",
      "200\n",
      "created_utc    1639056962\n",
      "Name: 2739, dtype: object\n",
      "200\n",
      "created_utc    1635019825\n",
      "Name: 2989, dtype: object\n",
      "200\n",
      "created_utc    1630467703\n",
      "Name: 3239, dtype: object\n",
      "3240 post scrapped\n"
     ]
    }
   ],
   "source": [
    "# Use function to scrape >3000 posts\n",
    "count = 13   # (3000/250 + 1)\n",
    "\n",
    "# Scrape for r/codingbootcamp\n",
    "# 'Before' parameter in function will be taken from 'created_utc' from the first post in the above df.\n",
    "# before = 1669244663\n",
    "df_cbc = scrapedata(count, 'codingbootcamp', 1669244663)"
   ]
  },
  {
   "cell_type": "code",
   "execution_count": 15,
   "id": "bc5c2eb0",
   "metadata": {},
   "outputs": [
    {
     "name": "stdout",
     "output_type": "stream",
     "text": [
      "200\n",
      "created_utc    1669050306\n",
      "Name: 249, dtype: object\n",
      "200\n",
      "created_utc    1668797107\n",
      "Name: 499, dtype: object\n",
      "200\n",
      "created_utc    1668611059\n",
      "Name: 746, dtype: object\n",
      "200\n",
      "created_utc    1668444854\n",
      "Name: 996, dtype: object\n",
      "200\n",
      "created_utc    1668199245\n",
      "Name: 1245, dtype: object\n",
      "200\n",
      "created_utc    1668031724\n",
      "Name: 1494, dtype: object\n",
      "200\n",
      "created_utc    1667886130\n",
      "Name: 1744, dtype: object\n",
      "200\n",
      "created_utc    1667761624\n",
      "Name: 1994, dtype: object\n",
      "200\n",
      "created_utc    1667586358\n",
      "Name: 2243, dtype: object\n",
      "200\n",
      "created_utc    1667443257\n",
      "Name: 2493, dtype: object\n",
      "200\n",
      "created_utc    1667318260\n",
      "Name: 2743, dtype: object\n",
      "200\n",
      "created_utc    1667117791\n",
      "Name: 2993, dtype: object\n",
      "200\n",
      "created_utc    1666906918\n",
      "Name: 3243, dtype: object\n",
      "3244 post scrapped\n"
     ]
    }
   ],
   "source": [
    "# Scrape for r/csMajors\n",
    "# 'Before' parameter in function will be taken from 'created_utc' from the first post in the above df.\n",
    "# before = 1669252773\n",
    "\n",
    "df_cm = scrapedata(count, 'csMajors', 1669252773)"
   ]
  },
  {
   "cell_type": "markdown",
   "id": "5b1eca4f",
   "metadata": {},
   "source": [
    "###### Data was scraped on 24th November 2022."
   ]
  },
  {
   "cell_type": "code",
   "execution_count": 16,
   "id": "762b937e",
   "metadata": {},
   "outputs": [
    {
     "data": {
      "text/plain": [
       "(3240, 81)"
      ]
     },
     "execution_count": 16,
     "metadata": {},
     "output_type": "execute_result"
    }
   ],
   "source": [
    "df_cbc.shape"
   ]
  },
  {
   "cell_type": "code",
   "execution_count": 17,
   "id": "0c6fbe76",
   "metadata": {},
   "outputs": [
    {
     "data": {
      "text/plain": [
       "(3244, 74)"
      ]
     },
     "execution_count": 17,
     "metadata": {},
     "output_type": "execute_result"
    }
   ],
   "source": [
    "df_cm.shape"
   ]
  },
  {
   "cell_type": "markdown",
   "id": "b777a079",
   "metadata": {},
   "source": [
    "As both dataframes have over 70 columns, most of which will not be used for model training, it is best to reduce this to just the necessary columns. "
   ]
  },
  {
   "cell_type": "code",
   "execution_count": 18,
   "id": "086ff3d3",
   "metadata": {},
   "outputs": [],
   "source": [
    "df_cbc = df_cbc[['subreddit', 'selftext', 'title']]"
   ]
  },
  {
   "cell_type": "code",
   "execution_count": 19,
   "id": "b330dfae",
   "metadata": {},
   "outputs": [],
   "source": [
    "df_cm = df_cm[['subreddit', 'selftext', 'title']]"
   ]
  },
  {
   "cell_type": "code",
   "execution_count": 20,
   "id": "b260f8e7",
   "metadata": {},
   "outputs": [],
   "source": [
    "# Combine both dfs\n",
    "df = pd.concat([df_cbc, df_cm], ignore_index=True)"
   ]
  },
  {
   "cell_type": "code",
   "execution_count": 21,
   "id": "0efb6ad0",
   "metadata": {
    "scrolled": true
   },
   "outputs": [
    {
     "name": "stdout",
     "output_type": "stream",
     "text": [
      "<class 'pandas.core.frame.DataFrame'>\n",
      "RangeIndex: 6484 entries, 0 to 6483\n",
      "Data columns (total 3 columns):\n",
      " #   Column     Non-Null Count  Dtype \n",
      "---  ------     --------------  ----- \n",
      " 0   subreddit  6484 non-null   object\n",
      " 1   selftext   6479 non-null   object\n",
      " 2   title      6484 non-null   object\n",
      "dtypes: object(3)\n",
      "memory usage: 152.1+ KB\n"
     ]
    }
   ],
   "source": [
    "df.info()"
   ]
  },
  {
   "cell_type": "code",
   "execution_count": 22,
   "id": "bc9d11ef",
   "metadata": {},
   "outputs": [],
   "source": [
    "# Save df as csv\n",
    "df.to_csv('data/df.csv', index=False)"
   ]
  },
  {
   "cell_type": "markdown",
   "id": "07f1f1e3",
   "metadata": {},
   "source": [
    "The data has been scraped and stored in a dataframe. It is now ready for the next part of the process. This will continue in Part 2. "
   ]
  }
 ],
 "metadata": {
  "kernelspec": {
   "display_name": "Python 3 (ipykernel)",
   "language": "python",
   "name": "python3"
  },
  "language_info": {
   "codemirror_mode": {
    "name": "ipython",
    "version": 3
   },
   "file_extension": ".py",
   "mimetype": "text/x-python",
   "name": "python",
   "nbconvert_exporter": "python",
   "pygments_lexer": "ipython3",
   "version": "3.9.12"
  }
 },
 "nbformat": 4,
 "nbformat_minor": 5
}
